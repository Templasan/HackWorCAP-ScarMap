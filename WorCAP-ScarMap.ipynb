{
 "cells": [
  {
   "cell_type": "markdown",
   "id": "3c3dcd08",
   "metadata": {},
   "source": [
    "# Projeto: Detecção de Queimadas com Machine Learning\n",
    "Este projeto tem como objetivo detectar áreas queimadas utilizando aprendizado de máquina com dados geoespaciais e espectrais.\n"
   ]
  },
  {
   "cell_type": "code",
   "execution_count": null,
   "id": "e694386c",
   "metadata": {},
   "outputs": [],
   "source": [
    "%%capture\n",
    "!pip install -q --upgrade pip\n",
    "!pip install -q segmentation-models-pytorch torchmetrics albumentations kagglehub torchvision pillow matplotlib scikit-learn tensorboard tqdm\n"
   ]
  },
  {
   "cell_type": "code",
   "execution_count": 2,
   "id": "6472b5f5",
   "metadata": {},
   "outputs": [
    {
     "name": "stdout",
     "output_type": "stream",
     "text": [
      "Total: 1890 imagens | 945 máscaras\n"
     ]
    }
   ],
   "source": [
    "import os\n",
    "\n",
    "# Caminho raiz do dataset principal\n",
    "dataset_path = \"./dataset_kaggle/dataset\"\n",
    "\n",
    "def get_paths(dataset_path):\n",
    "    images_paths = []\n",
    "    mask_paths = []\n",
    "\n",
    "    for dirname, _, filenames in os.walk(dataset_path):\n",
    "        for filename in filenames:\n",
    "            full_path = os.path.join(dirname, filename)\n",
    "            if \"mask\" in dirname.lower():   # se a pasta tem 'mask' no nome\n",
    "                mask_paths.append(full_path)\n",
    "            else:\n",
    "                images_paths.append(full_path)\n",
    "\n",
    "    # Ordena para manter consistência\n",
    "    images_paths = sorted(images_paths)\n",
    "    mask_paths   = sorted(mask_paths)\n",
    "    return images_paths, mask_paths\n",
    "\n",
    "images_paths, mask_paths = get_paths(dataset_path)\n",
    "print(f\"Total: {len(images_paths)} imagens | {len(mask_paths)} máscaras\")"
   ]
  },
  {
   "cell_type": "code",
   "execution_count": 3,
   "id": "9d83d5a9",
   "metadata": {},
   "outputs": [
    {
     "name": "stdout",
     "output_type": "stream",
     "text": [
      "Exemplos de imagens:\n",
      "['./dataset_kaggle/dataset\\\\t1\\\\recorte_1.tif', './dataset_kaggle/dataset\\\\t1\\\\recorte_10.tif', './dataset_kaggle/dataset\\\\t1\\\\recorte_100.tif', './dataset_kaggle/dataset\\\\t1\\\\recorte_101.tif', './dataset_kaggle/dataset\\\\t1\\\\recorte_102.tif']\n",
      "\n",
      "Exemplos de máscaras:\n",
      "['./dataset_kaggle/dataset\\\\mask\\\\recorte_1.tif', './dataset_kaggle/dataset\\\\mask\\\\recorte_10.tif', './dataset_kaggle/dataset\\\\mask\\\\recorte_100.tif', './dataset_kaggle/dataset\\\\mask\\\\recorte_101.tif', './dataset_kaggle/dataset\\\\mask\\\\recorte_102.tif']\n"
     ]
    }
   ],
   "source": [
    "# Mostrar alguns caminhos pra validar se carregou certo\n",
    "print(\"Exemplos de imagens:\")\n",
    "print(images_paths[:5])\n",
    "\n",
    "print(\"\\nExemplos de máscaras:\")\n",
    "print(mask_paths[:5])"
   ]
  },
  {
   "cell_type": "code",
   "execution_count": 4,
   "id": "1442ca47",
   "metadata": {},
   "outputs": [
    {
     "ename": "UnidentifiedImageError",
     "evalue": "cannot identify image file './dataset_kaggle/dataset\\\\t1\\\\recorte_1.tif'",
     "output_type": "error",
     "traceback": [
      "\u001b[31m---------------------------------------------------------------------------\u001b[39m",
      "\u001b[31mUnidentifiedImageError\u001b[39m                    Traceback (most recent call last)",
      "\u001b[36mCell\u001b[39m\u001b[36m \u001b[39m\u001b[32mIn[4]\u001b[39m\u001b[32m, line 5\u001b[39m\n\u001b[32m      2\u001b[39m \u001b[38;5;28;01mimport\u001b[39;00m\u001b[38;5;250m \u001b[39m\u001b[34;01mmatplotlib\u001b[39;00m\u001b[34;01m.\u001b[39;00m\u001b[34;01mpyplot\u001b[39;00m\u001b[38;5;250m \u001b[39m\u001b[38;5;28;01mas\u001b[39;00m\u001b[38;5;250m \u001b[39m\u001b[34;01mplt\u001b[39;00m\n\u001b[32m      4\u001b[39m \u001b[38;5;66;03m# Visualizar a primeira imagem e a respectiva máscara\u001b[39;00m\n\u001b[32m----> \u001b[39m\u001b[32m5\u001b[39m img = \u001b[43mImage\u001b[49m\u001b[43m.\u001b[49m\u001b[43mopen\u001b[49m\u001b[43m(\u001b[49m\u001b[43mimages_paths\u001b[49m\u001b[43m[\u001b[49m\u001b[32;43m0\u001b[39;49m\u001b[43m]\u001b[49m\u001b[43m)\u001b[49m\n\u001b[32m      6\u001b[39m mask = Image.open(mask_paths[\u001b[32m0\u001b[39m])\n\u001b[32m      8\u001b[39m plt.figure(figsize=(\u001b[32m10\u001b[39m,\u001b[32m5\u001b[39m))\n",
      "\u001b[36mFile \u001b[39m\u001b[32m~\\AppData\\Roaming\\Python\\Python313\\site-packages\\PIL\\Image.py:3580\u001b[39m, in \u001b[36mopen\u001b[39m\u001b[34m(fp, mode, formats)\u001b[39m\n\u001b[32m   3578\u001b[39m     warnings.warn(message)\n\u001b[32m   3579\u001b[39m msg = \u001b[33m\"\u001b[39m\u001b[33mcannot identify image file \u001b[39m\u001b[38;5;132;01m%r\u001b[39;00m\u001b[33m\"\u001b[39m % (filename \u001b[38;5;28;01mif\u001b[39;00m filename \u001b[38;5;28;01melse\u001b[39;00m fp)\n\u001b[32m-> \u001b[39m\u001b[32m3580\u001b[39m \u001b[38;5;28;01mraise\u001b[39;00m UnidentifiedImageError(msg)\n",
      "\u001b[31mUnidentifiedImageError\u001b[39m: cannot identify image file './dataset_kaggle/dataset\\\\t1\\\\recorte_1.tif'"
     ]
    }
   ],
   "source": [
    "from PIL import Image\n",
    "import matplotlib.pyplot as plt\n",
    "\n",
    "# Visualizar a primeira imagem e a respectiva máscara\n",
    "img = Image.open(images_paths[0])\n",
    "mask = Image.open(mask_paths[0])\n",
    "\n",
    "plt.figure(figsize=(10,5))\n",
    "plt.subplot(1,2,1)\n",
    "plt.imshow(img)\n",
    "plt.title(\"Imagem (Tensor)\")\n",
    "\n",
    "plt.subplot(1,2,2)\n",
    "plt.imshow(mask, cmap=\"gray\")\n",
    "plt.title(\"Máscara\")\n",
    "\n",
    "plt.show()"
   ]
  },
  {
   "cell_type": "code",
   "execution_count": null,
   "id": "3284fa10",
   "metadata": {},
   "outputs": [],
   "source": [
    "X_train, X_test, y_train, y_test = train_test_split(X_scaled, labels, test_size=0.2, random_state=42)"
   ]
  },
  {
   "cell_type": "code",
   "execution_count": null,
   "id": "4dc3eee6",
   "metadata": {},
   "outputs": [],
   "source": [
    "clf = RandomForestClassifier(n_estimators=100, random_state=42)\n",
    "clf.fit(X_train, y_train)"
   ]
  },
  {
   "cell_type": "code",
   "execution_count": null,
   "id": "ad85f63c",
   "metadata": {},
   "outputs": [],
   "source": [
    "y_pred_proba = clf.predict_proba(X_test)[:, 1]\n",
    "roc_auc = roc_auc_score(y_test, y_pred_proba)\n",
    "\n",
    "fpr, tpr, _ = roc_curve(y_test, y_pred_proba)\n",
    "\n",
    "plt.plot(fpr, tpr, label=f\"ROC Curve (AUC = {roc_auc:.2f})\")\n",
    "plt.xlabel(\"False Positive Rate\")\n",
    "plt.ylabel(\"True Positive Rate\")\n",
    "plt.legend()\n",
    "plt.grid(True)\n",
    "plt.show()"
   ]
  }
 ],
 "metadata": {
  "kernelspec": {
   "display_name": "Python 3",
   "language": "python",
   "name": "python3"
  },
  "language_info": {
   "codemirror_mode": {
    "name": "ipython",
    "version": 3
   },
   "file_extension": ".py",
   "mimetype": "text/x-python",
   "name": "python",
   "nbconvert_exporter": "python",
   "pygments_lexer": "ipython3",
   "version": "3.13.1"
  }
 },
 "nbformat": 4,
 "nbformat_minor": 5
}
